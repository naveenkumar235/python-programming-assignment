{
 "cells": [
  {
   "cell_type": "code",
   "execution_count": 1,
   "metadata": {},
   "outputs": [
    {
     "name": "stdout",
     "output_type": "stream",
     "text": [
      "Enter redius of the circle: 2.2\n",
      "the area of the given circle is  15.197600000000003\n"
     ]
    }
   ],
   "source": [
    "r=float(input(\"Enter redius of the circle: \"))\n",
    "r2= r**2\n",
    "Area=3.14*r2\n",
    "print (\"the area of the given circle is \",Area)"
   ]
  },
  {
   "cell_type": "code",
   "execution_count": 2,
   "metadata": {},
   "outputs": [
    {
     "name": "stdout",
     "output_type": "stream",
     "text": [
      "Enter first value: 3\n",
      "Enter second value: 9\n",
      "The sum of both the values is:  12.0\n"
     ]
    }
   ],
   "source": [
    "v1=float(input(\"Enter first value: \"))\n",
    "v2=float(input(\"Enter second value: \"))\n",
    "result=v1+v2\n",
    "print(\"The sum of both the values is: \",result)"
   ]
  },
  {
   "cell_type": "code",
   "execution_count": 3,
   "metadata": {},
   "outputs": [
    {
     "name": "stdout",
     "output_type": "stream",
     "text": [
      "Enter first name: Naveen\n",
      "Enter last name: Kumar\n",
      "Kumar Naveen\n"
     ]
    }
   ],
   "source": [
    "fname=str(input(\"Enter first name: \"))\n",
    "lname=str(input(\"Enter last name: \"))\n",
    "print(lname,fname)"
   ]
  },
  {
   "cell_type": "code",
   "execution_count": 4,
   "metadata": {},
   "outputs": [
    {
     "name": "stdout",
     "output_type": "stream",
     "text": [
      "3.7.4 (default, Aug  9 2019, 18:34:13) [MSC v.1915 64 bit (AMD64)]\n"
     ]
    }
   ],
   "source": [
    "import sys\n",
    "print(sys.version)"
   ]
  },
  {
   "cell_type": "code",
   "execution_count": 5,
   "metadata": {},
   "outputs": [
    {
     "name": "stdout",
     "output_type": "stream",
     "text": [
      "Current date and time :  05-11-2019 07:26:06\n"
     ]
    }
   ],
   "source": [
    "import datetime\n",
    "current = datetime.datetime.now()\n",
    "print (\"Current date and time : \",current.strftime(\"%d-%m-%Y %H:%M:%S\"))\n"
   ]
  },
  {
   "cell_type": "code",
   "execution_count": 6,
   "metadata": {},
   "outputs": [
    {
     "name": "stdout",
     "output_type": "stream",
     "text": [
      "Twinkle, twinkle, little star,\n",
      " \tHow I wonder what you are!\n",
      " \t\tUp above the world so high,\n",
      " \t\tLike a diamond in the sky.\n",
      "Twinkle, twinkle, little star,\n",
      " \tHow I wonder what you are!\n"
     ]
    }
   ],
   "source": [
    "print(\"Twinkle, twinkle, little star,\\n \\tHow I wonder what you are!\\n \\t\\tUp above the world so high,\\n \\t\\tLike a diamond in the sky.\\nTwinkle, twinkle, little star,\\n \\tHow I wonder what you are!\")"
   ]
  },
  {
   "cell_type": "code",
   "execution_count": null,
   "metadata": {},
   "outputs": [],
   "source": []
  }
 ],
 "metadata": {
  "kernelspec": {
   "display_name": "Python 3",
   "language": "python",
   "name": "python3"
  },
  "language_info": {
   "codemirror_mode": {
    "name": "ipython",
    "version": 3
   },
   "file_extension": ".py",
   "mimetype": "text/x-python",
   "name": "python",
   "nbconvert_exporter": "python",
   "pygments_lexer": "ipython3",
   "version": "3.7.4"
  }
 },
 "nbformat": 4,
 "nbformat_minor": 2
}
